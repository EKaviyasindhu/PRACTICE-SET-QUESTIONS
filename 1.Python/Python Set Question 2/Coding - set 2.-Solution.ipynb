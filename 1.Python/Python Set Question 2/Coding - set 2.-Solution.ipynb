{
 "cells": [
  {
   "cell_type": "markdown",
   "id": "0094477a-5455-4cda-af6e-92f325caca6a",
   "metadata": {},
   "source": [
    "1.Write a Python program to find the reverse of a string. Expected Output (for input \"hello\"):\n",
    "olleh\n"
   ]
  },
  {
   "cell_type": "code",
   "execution_count": 3,
   "id": "e5fa5b5e-5253-44e5-b027-a1fc7dd11c15",
   "metadata": {},
   "outputs": [
    {
     "name": "stdout",
     "output_type": "stream",
     "text": [
      "olleh\n"
     ]
    }
   ],
   "source": [
    "str = \"hello\"\n",
    "print(str[::-1])"
   ]
  },
  {
   "cell_type": "markdown",
   "id": "10623751-ac84-47d3-b2e6-26fdff3b1eaf",
   "metadata": {},
   "source": [
    "2.Write a Python program to generate the Fibonacci sequence up to 10 terms.\n",
    "Expected Output:\n",
    "0 1 1 2 3 5 8 13 21 34\n",
    "\n"
   ]
  },
  {
   "cell_type": "code",
   "execution_count": 4,
   "id": "a5404bde-e58e-4ce9-9c08-2e28f83be5fb",
   "metadata": {},
   "outputs": [
    {
     "name": "stdout",
     "output_type": "stream",
     "text": [
      "0 1 1 2 3 5 8 13 21 34 "
     ]
    }
   ],
   "source": [
    "def fibonacci(n):\n",
    "    a, b = 0, 1  # first two numbers\n",
    "    for _ in range(n):\n",
    "        print(a, end=\" \")\n",
    "        a, b = b, a + b  # shift numbers forward\n",
    "\n",
    "fibonacci(10)"
   ]
  },
  {
   "cell_type": "markdown",
   "id": "9a4092a6-8424-49a7-99de-84ffa4ae3450",
   "metadata": {},
   "source": [
    "3.Write a Python function to check if a given string is a palindrome.\n",
    "Expected Output (for input \"madam\"):\n",
    "madam is a palindrome\n",
    "\n"
   ]
  },
  {
   "cell_type": "code",
   "execution_count": 8,
   "id": "c390524a-ecfe-484a-a060-6e6602ed1447",
   "metadata": {},
   "outputs": [
    {
     "name": "stdin",
     "output_type": "stream",
     "text": [
      "Enter the word madam\n"
     ]
    },
    {
     "name": "stdout",
     "output_type": "stream",
     "text": [
      "madam is palindrome\n"
     ]
    }
   ],
   "source": [
    "str = input(\"Enter the word\")\n",
    "if(str == str[::-1]):\n",
    "    print (f\"{str} is palindrome\")\n",
    "else:\n",
    "    print (f\"{str} is not palindrome\")"
   ]
  },
  {
   "cell_type": "markdown",
   "id": "face9f9e-06f8-45c5-9fa1-2087975f6224",
   "metadata": {},
   "source": [
    "4.Write a Python program to count the number of vowels in a given string. \n",
    "Expected Output (for input \"education\"):\n",
    "\n",
    "Number of vowels: 5\n"
   ]
  },
  {
   "cell_type": "code",
   "execution_count": 13,
   "id": "b8d392ab-4f08-4f23-aee6-744a96c5a1db",
   "metadata": {},
   "outputs": [
    {
     "name": "stdin",
     "output_type": "stream",
     "text": [
      "Enter the Word Education\n"
     ]
    },
    {
     "name": "stdout",
     "output_type": "stream",
     "text": [
      "Number of Vowels 5\n"
     ]
    }
   ],
   "source": [
    "def count_vowels(str):\n",
    "    vowels = \"aeiou\"\n",
    "    str = str.lower()\n",
    "    \n",
    "    count = 0\n",
    "    for char in str:\n",
    "        if char in vowels:\n",
    "            count = count + 1\n",
    "    return count\n",
    "\n",
    "text = input(\"Enter the Word\")\n",
    "print (\"Number of Vowels\", count_vowels(text))\n",
    "    "
   ]
  },
  {
   "cell_type": "markdown",
   "id": "5262792a-9d4f-41c4-b4ef-24388c60cef5",
   "metadata": {},
   "source": [
    "5.Write a Python program to remove duplicates from a list.\n",
    "Expected Output (for input [1, 2, 2, 3, 4, 4, 5]):\n",
    "\n",
    " [1, 2, 3, 4, 5]\n"
   ]
  },
  {
   "cell_type": "code",
   "execution_count": null,
   "id": "fe5ba1b5-9be4-4695-aa5f-67498504c322",
   "metadata": {},
   "outputs": [],
   "source": [
    "def remove_duplicate(numlist):\n",
    "    unique_list = []\n",
    "    for item in numlist:\n",
    "        if item not in unique_list:\n",
    "            unique_list.append(item)\n",
    "    return unique_list\n",
    "\n"
   ]
  }
 ],
 "metadata": {
  "kernelspec": {
   "display_name": "Python 3 (ipykernel)",
   "language": "python",
   "name": "python3"
  },
  "language_info": {
   "codemirror_mode": {
    "name": "ipython",
    "version": 3
   },
   "file_extension": ".py",
   "mimetype": "text/x-python",
   "name": "python",
   "nbconvert_exporter": "python",
   "pygments_lexer": "ipython3",
   "version": "3.11.5"
  }
 },
 "nbformat": 4,
 "nbformat_minor": 5
}
