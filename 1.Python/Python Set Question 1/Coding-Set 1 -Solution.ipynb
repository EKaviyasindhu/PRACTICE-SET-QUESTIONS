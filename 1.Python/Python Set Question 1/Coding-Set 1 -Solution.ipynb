{
 "cells": [
  {
   "cell_type": "markdown",
   "id": "0254a75b-fcd6-4620-8cc4-6cc262776fbd",
   "metadata": {},
   "source": [
    "1.Write a Python program that prints numbers from 1 to 5.\n",
    "Expected Output:\n",
    "1 2 3 4 5\n"
   ]
  },
  {
   "cell_type": "code",
   "execution_count": 3,
   "id": "eca9be37-d723-44a0-bdd3-22ef3f5fa50d",
   "metadata": {},
   "outputs": [
    {
     "name": "stdout",
     "output_type": "stream",
     "text": [
      "1\n",
      "2\n",
      "3\n",
      "4\n",
      "5\n"
     ]
    }
   ],
   "source": [
    "#prints numbers from 1 to 5\n",
    "\n",
    "for n in range(5):\n",
    "    print (n+1)\n"
   ]
  },
  {
   "cell_type": "markdown",
   "id": "507c2703-0575-4d7f-a8d9-09f2ae183fa0",
   "metadata": {},
   "source": [
    "2.Write a Python program to print the first 5 even numbers. Expected Output:\n",
    "2 4 6 8 10\n",
    "\n"
   ]
  },
  {
   "cell_type": "code",
   "execution_count": 9,
   "id": "f0e8dac3-3831-4667-ac55-1ae06b1d1d60",
   "metadata": {},
   "outputs": [
    {
     "name": "stdout",
     "output_type": "stream",
     "text": [
      "[2, 4, 6, 8, 10]\n"
     ]
    }
   ],
   "source": [
    "#print the first 5 even numbers\n",
    "even = []\n",
    "n=10\n",
    "for n in range(1, n+1):\n",
    "    if (n % 2 == 0):\n",
    "        even.append(n)\n",
    "\n",
    "print (even)"
   ]
  },
  {
   "cell_type": "markdown",
   "id": "92128ea2-dbaf-4a33-9b81-974a178c7a98",
   "metadata": {},
   "source": [
    "3.Write a Python program to print the sum of numbers from 1 to 10. \n",
    "Expected Output:55\n",
    "\n"
   ]
  },
  {
   "cell_type": "code",
   "execution_count": 11,
   "id": "64a15b2a-26f0-49c7-b1cc-7b756dc3b0ef",
   "metadata": {},
   "outputs": [
    {
     "name": "stdout",
     "output_type": "stream",
     "text": [
      "55\n"
     ]
    }
   ],
   "source": [
    "n=10\n",
    "sum = 0\n",
    "for n in range(1, n+1):\n",
    "    sum = sum + n;\n",
    "\n",
    "print(sum)"
   ]
  },
  {
   "cell_type": "markdown",
   "id": "9941865d-3904-42ec-8475-526274e89be1",
   "metadata": {},
   "source": [
    "4.Write a Python function to find the factorial of 5. Expected Output:\n",
    "120\n",
    "\n"
   ]
  },
  {
   "cell_type": "code",
   "execution_count": 17,
   "id": "8617ba4a-7208-4a89-b48b-3982bd1e2f05",
   "metadata": {},
   "outputs": [
    {
     "name": "stdout",
     "output_type": "stream",
     "text": [
      "120\n"
     ]
    }
   ],
   "source": [
    "#factorial of 5\n",
    "n=5\n",
    "factorial = 1\n",
    "for i in range(1, n+1):\n",
    "   factorial *= i\n",
    "\n",
    "print(factorial)"
   ]
  },
  {
   "cell_type": "markdown",
   "id": "511bf68d-d191-4131-b891-4efd76d8c986",
   "metadata": {},
   "source": [
    "5.Write a Python program to check if a number is prime. Expected Output (for input 7):\n",
    "7 is a prime number\n",
    "\n"
   ]
  },
  {
   "cell_type": "code",
   "execution_count": 29,
   "id": "11b68af9-84dc-45cd-9c00-290b70ffe3c0",
   "metadata": {},
   "outputs": [
    {
     "name": "stdin",
     "output_type": "stream",
     "text": [
      "Enter the Number 8\n"
     ]
    },
    {
     "name": "stdout",
     "output_type": "stream",
     "text": [
      "8 is not a prime number.\n"
     ]
    }
   ],
   "source": [
    "#heck if a number is prime\n",
    "num = int(input(\"Enter the Number\"))\n",
    "\n",
    "def IsPrime(num):\n",
    "    if (num <= 1):\n",
    "        return False\n",
    "\n",
    "    for i in range(2, int(num ** 0.5) + 1):\n",
    "        if num % i == 0:\n",
    "            return False\n",
    "    return True\n",
    "\n",
    "if(IsPrime(num) == True):\n",
    "    print(f\"{num} is a prime number.\")\n",
    "else:\n",
    "    print(f\"{num} is not a prime number.\")\n",
    "    \n"
   ]
  },
  {
   "cell_type": "code",
   "execution_count": null,
   "id": "7d58eec9-1f26-4726-87f9-06b6489fc50b",
   "metadata": {},
   "outputs": [],
   "source": []
  }
 ],
 "metadata": {
  "kernelspec": {
   "display_name": "Python 3 (ipykernel)",
   "language": "python",
   "name": "python3"
  },
  "language_info": {
   "codemirror_mode": {
    "name": "ipython",
    "version": 3
   },
   "file_extension": ".py",
   "mimetype": "text/x-python",
   "name": "python",
   "nbconvert_exporter": "python",
   "pygments_lexer": "ipython3",
   "version": "3.11.5"
  }
 },
 "nbformat": 4,
 "nbformat_minor": 5
}
