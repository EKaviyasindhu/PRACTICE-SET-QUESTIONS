{
 "cells": [
  {
   "cell_type": "code",
   "execution_count": 7,
   "id": "56888b1c-79e9-4b3c-a4e8-6371be11705e",
   "metadata": {},
   "outputs": [],
   "source": [
    "import pandas as pd"
   ]
  },
  {
   "cell_type": "code",
   "execution_count": null,
   "id": "236d4978",
   "metadata": {
    "id": "236d4978"
   },
   "outputs": [],
   "source": [
    "#1.Find the GCD of Two Numbers\n",
    "Question: Write a Python program to find the Greatest Common Divisor (GCD) of 36 and 60.\n"
   ]
  },
  {
   "cell_type": "code",
   "execution_count": 26,
   "id": "c081ab02-bbff-489e-8e7a-11fec1464105",
   "metadata": {},
   "outputs": [
    {
     "name": "stdout",
     "output_type": "stream",
     "text": [
      "12\n"
     ]
    }
   ],
   "source": [
    "import math\n",
    "print(math.gcd(36, 60))"
   ]
  },
  {
   "cell_type": "markdown",
   "id": "e816c9d8-b1e6-4413-b4e7-b484724ad15e",
   "metadata": {
    "id": "e1bfc6af"
   },
   "source": [
    "#2. Find the Sum of Digits of a Number\n",
    "Question: Write a Python program to find the sum of the digits of the number 987.\n"
   ]
  },
  {
   "cell_type": "code",
   "execution_count": 23,
   "id": "48ba734b-0891-488c-8f57-e7dee73f06f2",
   "metadata": {},
   "outputs": [
    {
     "name": "stdout",
     "output_type": "stream",
     "text": [
      "24\n"
     ]
    }
   ],
   "source": [
    "number = 987\n",
    "print(sum(int(digits) for digits in str(number)))\n"
   ]
  },
  {
   "cell_type": "markdown",
   "id": "1967e874-e722-44a6-ac1e-552c813a0d61",
   "metadata": {
    "id": "e051bb22"
   },
   "source": [
    "#3. Find All Armstrong Numbers Between 1 and 1000\n",
    "Question: Write a Python program to print all Armstrong numbers between 1 and 1000.\n"
   ]
  },
  {
   "cell_type": "code",
   "execution_count": null,
   "id": "d9770eff-8fd6-49f5-a8e2-fd2bda74c544",
   "metadata": {},
   "outputs": [],
   "source": []
  },
  {
   "cell_type": "markdown",
   "id": "d9ecf0fb-0454-4459-991d-4787ed22dcfa",
   "metadata": {
    "id": "dbffe07b"
   },
   "source": [
    "#4.Count the Frequency of Each Character in a String\n",
    "Question: Write a Python program to count the frequency of each character in \"programming\".\n",
    "\n"
   ]
  },
  {
   "cell_type": "code",
   "execution_count": 33,
   "id": "5b4a5c7e-9124-4b83-a5ba-7ae6c31357a7",
   "metadata": {},
   "outputs": [
    {
     "name": "stdout",
     "output_type": "stream",
     "text": [
      "{'P': 1, 'r': 2, 'o': 1, 'g': 2, 'a': 1, 'm': 2, 'i': 1, 'n': 1}\n"
     ]
    }
   ],
   "source": [
    "str = \"Programming\"\n",
    "frequency = {}\n",
    "\n",
    "for char in str:\n",
    "    if char in frequency:\n",
    "        frequency[char] += 1\n",
    "    else:\n",
    "        frequency[char] = 1\n",
    "        \n",
    "print(frequency)"
   ]
  },
  {
   "cell_type": "markdown",
   "id": "d6153caa-07eb-46e2-b1c9-e30dc3e3adef",
   "metadata": {
    "id": "f092013b"
   },
   "source": [
    "#5. Generate a List of Squares of Numbers from 1 to 10\n",
    "Question: Write a Python program to generate a list containing squares of numbers from 1 to 10.\n",
    "\n"
   ]
  },
  {
   "cell_type": "code",
   "execution_count": 2,
   "id": "3b44c858",
   "metadata": {
    "id": "3b44c858"
   },
   "outputs": [
    {
     "name": "stdout",
     "output_type": "stream",
     "text": [
      "[1, 4, 9, 16, 25, 36, 49, 64, 81, 100]\n"
     ]
    }
   ],
   "source": [
    "squares = [i ** 2 for i in range(1, 11)]\n",
    "print(squares)"
   ]
  },
  {
   "cell_type": "code",
   "execution_count": null,
   "id": "3d849771",
   "metadata": {
    "id": "3d849771"
   },
   "outputs": [],
   "source": []
  },
  {
   "cell_type": "code",
   "execution_count": null,
   "id": "7840dd7f",
   "metadata": {
    "id": "7840dd7f"
   },
   "outputs": [],
   "source": []
  },
  {
   "cell_type": "code",
   "execution_count": null,
   "id": "e7d58228",
   "metadata": {
    "id": "e7d58228"
   },
   "outputs": [],
   "source": []
  },
  {
   "cell_type": "code",
   "execution_count": null,
   "id": "85a782d9",
   "metadata": {
    "id": "85a782d9"
   },
   "outputs": [],
   "source": []
  }
 ],
 "metadata": {
  "colab": {
   "provenance": []
  },
  "kernelspec": {
   "display_name": "Python 3 (ipykernel)",
   "language": "python",
   "name": "python3"
  },
  "language_info": {
   "codemirror_mode": {
    "name": "ipython",
    "version": 3
   },
   "file_extension": ".py",
   "mimetype": "text/x-python",
   "name": "python",
   "nbconvert_exporter": "python",
   "pygments_lexer": "ipython3",
   "version": "3.11.5"
  }
 },
 "nbformat": 4,
 "nbformat_minor": 5
}
